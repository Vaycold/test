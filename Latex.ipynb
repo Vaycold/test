{
  "nbformat": 4,
  "nbformat_minor": 0,
  "metadata": {
    "colab": {
      "provenance": [],
      "authorship_tag": "ABX9TyP1MTr5qXg7yYlonykMHI0j",
      "include_colab_link": true
    },
    "kernelspec": {
      "name": "ir",
      "display_name": "R"
    },
    "language_info": {
      "name": "R"
    }
  },
  "cells": [
    {
      "cell_type": "markdown",
      "metadata": {
        "id": "view-in-github",
        "colab_type": "text"
      },
      "source": [
        "<a href=\"https://colab.research.google.com/github/Vaycold/test/blob/main/Latex.ipynb\" target=\"_parent\"><img src=\"https://colab.research.google.com/assets/colab-badge.svg\" alt=\"Open In Colab\"/></a>"
      ]
    },
    {
      "cell_type": "markdown",
      "source": [
        "# Latex연습\n",
        "\n",
        "$$ A \\otimes B = B \\otimes A$$\n",
        "$$3 + 3 \\neq 5^2$$"
      ],
      "metadata": {
        "id": "zGHJNuLl8fVo"
      }
    }
  ]
}